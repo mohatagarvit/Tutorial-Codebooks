{
 "cells": [
  {
   "cell_type": "code",
   "execution_count": 13,
   "metadata": {},
   "outputs": [],
   "source": [
    "import torch\n",
    "import numpy as np"
   ]
  },
  {
   "cell_type": "markdown",
   "metadata": {},
   "source": [
    "## Initialization"
   ]
  },
  {
   "cell_type": "code",
   "execution_count": 9,
   "metadata": {},
   "outputs": [
    {
     "name": "stdout",
     "output_type": "stream",
     "text": [
      "tensor([[1.8561, 3.6522, 2.2875],\n",
      "        [1.0793, 1.0052, 0.3869],\n",
      "        [1.8718, 0.8598, 1.5903],\n",
      "        [0.3330, 0.2687, 0.5109],\n",
      "        [0.6580, 0.1315, 1.1216]])\n",
      "tensor([[0.9866, 0.2769, 0.3505],\n",
      "        [0.9004, 0.8409, 0.3463],\n",
      "        [0.3803, 0.0256, 0.0243],\n",
      "        [0.1602, 0.9902, 0.6624],\n",
      "        [0.2770, 0.2258, 0.9288]])\n",
      "tensor([[0, 0, 0],\n",
      "        [0, 0, 0],\n",
      "        [0, 0, 0],\n",
      "        [0, 0, 0],\n",
      "        [0, 0, 0]])\n",
      "tensor([5.5000, 3.0000])\n",
      "tensor([[1., 1., 1.],\n",
      "        [1., 1., 1.],\n",
      "        [1., 1., 1.],\n",
      "        [1., 1., 1.],\n",
      "        [1., 1., 1.]], dtype=torch.float64)\n",
      "tensor([[ 0.9707,  0.1736,  0.0127],\n",
      "        [-0.3257, -0.1465,  0.7252],\n",
      "        [ 0.3253, -0.5616, -0.7376],\n",
      "        [ 1.0626, -0.0039, -0.5750],\n",
      "        [ 0.7591,  0.8005, -1.5758]])\n"
     ]
    }
   ],
   "source": [
    "x = torch.empty(5,3)                        # no init (garbage values)\n",
    "print(x)\n",
    "y = torch.rand(5,3)                         # random init\n",
    "print(y)\n",
    "x = torch.zeros(5, 3, dtype=torch.long)     # zero init\n",
    "x = torch.ones(5, 3, dtype=torch.long)      # one init\n",
    "print(x)\n",
    "x = torch.tensor([5.5, 3])                  # direct/manual init \n",
    "print(x)\n",
    "x = x.new_ones(5, 3, dtype=torch.double)    # reinit with ones\n",
    "print(x)\n",
    "x = torch.randn_like(x, dtype=torch.float)  # copy init\n",
    "print(x)"
   ]
  },
  {
   "cell_type": "markdown",
   "metadata": {},
   "source": [
    "### NOTE\n",
    "\n",
    "- **new_empty** is used with a *tensor var* whereas **empty** is used with/an attribute of \"*torch*\". \n",
    "- **new_*** methods take in sizes and are used to reinitialize a var with new values.\n",
    "- **_** is an *inplace* operation. Modifies the variable that calls it.(eg- x.copy_(y), x.add_(y), x.t_()\n"
   ]
  },
  {
   "cell_type": "markdown",
   "metadata": {},
   "source": [
    "## Indexing\n",
    "- Standard Indexing (just as in **NumPy**)\n",
    "- Other attributes same as that of NumPy"
   ]
  },
  {
   "cell_type": "code",
   "execution_count": null,
   "metadata": {},
   "outputs": [],
   "source": []
  },
  {
   "cell_type": "markdown",
   "metadata": {},
   "source": [
    "## Utility Functions"
   ]
  },
  {
   "cell_type": "code",
   "execution_count": 8,
   "metadata": {},
   "outputs": [
    {
     "name": "stdout",
     "output_type": "stream",
     "text": [
      "torch.Size([5, 3])\n"
     ]
    }
   ],
   "source": [
    "print(x.size())"
   ]
  },
  {
   "cell_type": "markdown",
   "metadata": {},
   "source": [
    "| Function           | Description               | Example             |\n",
    "| ------------------ | ------------------------- | ------------------- |\n",
    "| size               | size of Tensor            | x.size()            |\n",
    "| t                  | Transpose                 | x.t()               |\n",
    "| add                | Add                       | x.add(y)            |\n",
    "| copy               | Copy                      | x.copy(y)           |\n",
    "| view               | Resize                    | x.view()            |\n",
    "| numpy              | Tensor to Numpy converter | x.numpy()           |\n",
    "| torch.from_numpy() | Numpy to Tensor converter | torch.from_numpy(x) |\n",
    "| "
   ]
  },
  {
   "cell_type": "markdown",
   "metadata": {},
   "source": [
    "### NOTE\n",
    "- **torch.Size** is a tuple.\n"
   ]
  },
  {
   "cell_type": "code",
   "execution_count": null,
   "metadata": {},
   "outputs": [],
   "source": []
  },
  {
   "cell_type": "code",
   "execution_count": 13,
   "metadata": {},
   "outputs": [
    {
     "name": "stdout",
     "output_type": "stream",
     "text": [
      "tensor([[ 1.9573,  0.4505,  0.3632],\n",
      "        [ 0.5747,  0.6943,  1.0715],\n",
      "        [ 0.7056, -0.5359, -0.7132],\n",
      "        [ 1.2227,  0.9863,  0.0874],\n",
      "        [ 1.0361,  1.0263, -0.6470]])\n",
      "tensor([[ 1.9573,  0.4505,  0.3632],\n",
      "        [ 0.5747,  0.6943,  1.0715],\n",
      "        [ 0.7056, -0.5359, -0.7132],\n",
      "        [ 1.2227,  0.9863,  0.0874],\n",
      "        [ 1.0361,  1.0263, -0.6470]])\n",
      "torch.Size([4, 4]) torch.Size([16]) torch.Size([2, 8])\n"
     ]
    }
   ],
   "source": [
    "# 2 ways of addition\n",
    "print(x + y)            # 1\n",
    "print(torch.add(x,y))   # 2\n",
    "\n",
    "# resize operation \n",
    "x = torch.randn(4, 4)\n",
    "y = x.view(16)\n",
    "z = x.view(-1, 8)  \n",
    "print(x.size(), y.size(), z.size())\n"
   ]
  },
  {
   "cell_type": "markdown",
   "metadata": {},
   "source": [
    "## General attributes of functions\n",
    "\n",
    "- **out** = var_name -> to output value of operation to var_name variable"
   ]
  },
  {
   "cell_type": "markdown",
   "metadata": {},
   "source": [
    "## CUDA Tensors\n",
    "- **.to()** to choose a device\n",
    "- argument can be either a string or a device object"
   ]
  },
  {
   "cell_type": "code",
   "execution_count": null,
   "metadata": {},
   "outputs": [],
   "source": [
    "if torch.cuda.is_available():\n",
    "    device = torch.device(\"cuda\")          # a CUDA device object\n",
    "    y = torch.ones_like(x, device=device)  # directly create a tensor on GPU\n",
    "    x = x.to(device)                       # or just use strings ``.to(\"cuda\")``\n",
    "    z = x + y\n",
    "    print(z)\n",
    "    print(z.to(\"cpu\", torch.double))       # ``.to`` can also change dtype together!"
   ]
  },
  {
   "cell_type": "code",
   "execution_count": null,
   "metadata": {},
   "outputs": [],
   "source": []
  },
  {
   "cell_type": "code",
   "execution_count": 18,
   "metadata": {},
   "outputs": [],
   "source": [
    "import numpy as np\n",
    "from scipy import linalg\n",
    "A = np.array([[1,2],[3,4]])\n",
    "B = np.array([[1,2],[3,4]])"
   ]
  },
  {
   "cell_type": "code",
   "execution_count": 19,
   "metadata": {},
   "outputs": [
    {
     "name": "stdout",
     "output_type": "stream",
     "text": [
      "-2.0\n",
      "-2.0\n",
      "-20.0\n"
     ]
    }
   ],
   "source": [
    "print(linalg.det(A))\n",
    "print(linalg.det(B))\n",
    "print(linalg.det(A*B))"
   ]
  },
  {
   "cell_type": "code",
   "execution_count": 21,
   "metadata": {},
   "outputs": [
    {
     "name": "stdout",
     "output_type": "stream",
     "text": [
      "[[ 7 10]\n",
      " [15 22]]\n"
     ]
    }
   ],
   "source": [
    "print(linalg.det(np.dot(A,B)))\n"
   ]
  },
  {
   "cell_type": "code",
   "execution_count": null,
   "metadata": {},
   "outputs": [],
   "source": []
  },
  {
   "cell_type": "code",
   "execution_count": null,
   "metadata": {},
   "outputs": [],
   "source": []
  },
  {
   "cell_type": "code",
   "execution_count": 3,
   "metadata": {},
   "outputs": [],
   "source": [
    "import torch"
   ]
  },
  {
   "cell_type": "code",
   "execution_count": 6,
   "metadata": {},
   "outputs": [
    {
     "name": "stdout",
     "output_type": "stream",
     "text": [
      "tensor([[1., 2.],\n",
      "        [3., 4.]])\n",
      "<built-in method type of Tensor object at 0x00000130AD4C29A8>\n",
      "torch.Size([2, 2])\n"
     ]
    }
   ],
   "source": [
    "tensor = torch.Tensor([[1,2],[3,4]]) # Tensor/tensor - both upper and lower case work\n",
    "print(tensor)\n",
    "print(tensor.type)\n",
    "print(tensor.shape)"
   ]
  },
  {
   "cell_type": "code",
   "execution_count": 11,
   "metadata": {},
   "outputs": [
    {
     "name": "stdout",
     "output_type": "stream",
     "text": [
      "tensor([[1., 1., 1.],\n",
      "        [1., 1., 1.]])\n",
      "tensor([[1., 1., 1.],\n",
      "        [1., 1., 1.]])\n"
     ]
    }
   ],
   "source": [
    "print(torch.ones(2,3))\n",
    "print(torch.ones((2,3)))"
   ]
  },
  {
   "cell_type": "code",
   "execution_count": 12,
   "metadata": {},
   "outputs": [
    {
     "name": "stdout",
     "output_type": "stream",
     "text": [
      "tensor([[0.9521, 0.8108, 0.0685],\n",
      "        [0.8779, 0.7351, 0.6844]])\n"
     ]
    }
   ],
   "source": [
    "print(torch.rand(2,3))"
   ]
  },
  {
   "cell_type": "code",
   "execution_count": 15,
   "metadata": {},
   "outputs": [
    {
     "name": "stdout",
     "output_type": "stream",
     "text": [
      "tensor([[0.9582, 0.1458, 0.7755],\n",
      "        [0.5244, 0.2964, 0.9530]], dtype=torch.float64)\n",
      "[[0.95815169 0.14581256 0.7755147 ]\n",
      " [0.52436974 0.29640201 0.9529958 ]]\n"
     ]
    }
   ],
   "source": [
    "a = np.random.rand(2,3)\n",
    "b = torch.from_numpy(a)\n",
    "print(torch.from_numpy(a))\n",
    "print(b.numpy())"
   ]
  },
  {
   "cell_type": "code",
   "execution_count": 26,
   "metadata": {},
   "outputs": [
    {
     "name": "stdout",
     "output_type": "stream",
     "text": [
      "tensor([1., 1., 1., 1., 1., 1., 1., 1., 1.])\n",
      "torch.Size([9])\n",
      "tensor([[1., 1., 1.],\n",
      "        [1., 1., 1.],\n",
      "        [1., 1., 1.]])\n",
      "tensor([[2., 2., 2.],\n",
      "        [2., 2., 2.],\n",
      "        [2., 2., 2.]])\n",
      "tensor([[0., 0., 0.],\n",
      "        [0., 0., 0.],\n",
      "        [0., 0., 0.]])\n",
      "tensor([[0., 0., 0.],\n",
      "        [0., 0., 0.],\n",
      "        [0., 0., 0.]])\n",
      "tensor([[1., 1., 1.],\n",
      "        [1., 1., 1.],\n",
      "        [1., 1., 1.]])\n",
      "tensor([[1., 1., 1.],\n",
      "        [1., 1., 1.],\n",
      "        [1., 1., 1.]])\n",
      "tensor(1.)\n",
      "tensor(0.)\n"
     ]
    }
   ],
   "source": [
    "a = torch.ones(3,3)\n",
    "# view -> resahape\n",
    "\n",
    "print(a.view(9)) \n",
    "print(a.view(9).shape)\n",
    "# print(tensor.view(9).shape)\n",
    "print(a)\n",
    "\n",
    "print(torch.add(a,a))\n",
    "print(torch.sub(a,a))\n",
    "print(a.sub(a))\n",
    "print(torch.mul(a,a))\n",
    "print(torch.div(a,a))\n",
    "print(a.mean())\n",
    "print(a.std())"
   ]
  },
  {
   "cell_type": "code",
   "execution_count": 29,
   "metadata": {},
   "outputs": [
    {
     "data": {
      "text/plain": [
       "tensor([1., 1., 1.], requires_grad=True)"
      ]
     },
     "execution_count": 29,
     "metadata": {},
     "output_type": "execute_result"
    }
   ],
   "source": [
    "# variable accumulates gradients \n",
    "# tensor does not\n",
    "# variables for backward propagation\n",
    "\n",
    "from torch.autograd import Variable # variable also works\n",
    "var = Variable(torch.ones(3), requires_grad=True)\n",
    "var"
   ]
  },
  {
   "cell_type": "code",
   "execution_count": 41,
   "metadata": {},
   "outputs": [
    {
     "name": "stdout",
     "output_type": "stream",
     "text": [
      "tensor([ 4., 16.], requires_grad=True)\n",
      "tensor(10., grad_fn=<MulBackward0>)\n",
      "None\n",
      "tensor([0.5000, 0.5000])\n"
     ]
    }
   ],
   "source": [
    "ar = torch.Tensor([2,4])\n",
    "x = Variable(ar, requires_grad=True)\n",
    "# y = Variable(x**2)\n",
    "x.requires_grad = True\n",
    "y = x**2\n",
    "\n",
    "print(y)\n",
    "\n",
    "err = 1/2*sum(y)\n",
    "print(err)\n",
    "\n",
    "err.backward()\n",
    "\n",
    "print(x.grad)"
   ]
  },
  {
   "cell_type": "code",
   "execution_count": null,
   "metadata": {},
   "outputs": [],
   "source": []
  }
 ],
 "metadata": {
  "kernelspec": {
   "display_name": "Python 3",
   "language": "python",
   "name": "python3"
  },
  "language_info": {
   "codemirror_mode": {
    "name": "ipython",
    "version": 3
   },
   "file_extension": ".py",
   "mimetype": "text/x-python",
   "name": "python",
   "nbconvert_exporter": "python",
   "pygments_lexer": "ipython3",
   "version": "3.7.4"
  }
 },
 "nbformat": 4,
 "nbformat_minor": 2
}
